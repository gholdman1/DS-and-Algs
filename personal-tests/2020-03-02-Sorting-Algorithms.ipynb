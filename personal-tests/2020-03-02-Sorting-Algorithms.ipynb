{
 "cells": [
  {
   "cell_type": "markdown",
   "metadata": {},
   "source": [
    "This notebook is an attempt to rewrite various sorting algorithms from memory. This text is written during the test. Any *italicized text was added later*."
   ]
  },
  {
   "cell_type": "markdown",
   "metadata": {},
   "source": [
    "# Utilities"
   ]
  },
  {
   "cell_type": "markdown",
   "metadata": {},
   "source": [
    "## `swap`"
   ]
  },
  {
   "cell_type": "markdown",
   "metadata": {},
   "source": [
    "A swap function is useful for many sorting algorithms."
   ]
  },
  {
   "cell_type": "code",
   "execution_count": 1,
   "metadata": {},
   "outputs": [],
   "source": [
    "def swap(arr,i,j):\n",
    "    '''\n",
    "    Swap keys at indices i and j in the array arr.\n",
    "    Used in algorithms such as selection sort, insertion sort, bubble sort.\n",
    "    '''\n",
    "    temp=arr[i]\n",
    "    \n",
    "    arr[i]=arr[j]\n",
    "    arr[j]=temp\n",
    "    "
   ]
  },
  {
   "cell_type": "markdown",
   "metadata": {},
   "source": [
    "Proof that it works"
   ]
  },
  {
   "cell_type": "code",
   "execution_count": 2,
   "metadata": {},
   "outputs": [
    {
     "name": "stdout",
     "output_type": "stream",
     "text": [
      "Pre-swap: [1, 2, 3]\n",
      "Post-swap: [3, 2, 1]\n"
     ]
    }
   ],
   "source": [
    "arr1=[1,2,3]\n",
    "print('Pre-swap:',arr1)\n",
    "swap(arr1,0,2)\n",
    "\n",
    "print('Post-swap:',arr1)"
   ]
  },
  {
   "cell_type": "markdown",
   "metadata": {},
   "source": [
    "## `partition`"
   ]
  },
  {
   "cell_type": "markdown",
   "metadata": {},
   "source": [
    "Partition is a function used most notably in `quicksort`. Given an array, it takes last index as a pivot point and moves all keys with values smaller to lower indices, while moving all keys larger to higher indices. Thus, after an array has been partitioned around a keys, that key is in the correct spot."
   ]
  },
  {
   "cell_type": "code",
   "execution_count": 3,
   "metadata": {},
   "outputs": [],
   "source": [
    "def partition(arr_):\n",
    "    '''\n",
    "    Partitions about the last index.\n",
    "    '''\n",
    "    n=len(arr_)\n",
    "    pivot=arr_[-1]\n",
    "    i=-1 # Index of last key less than pivot\n",
    "    \n",
    "    for j in range(n-1):\n",
    "        if arr_[j]<=pivot:\n",
    "            i=i+1 # Found another smaller than pivot\n",
    "            swap(arr_,j,i)\n",
    "        j=j+1\n",
    "    \n",
    "    # Place pivot in correct position\n",
    "    # Note i+1 moves to the end\n",
    "    swap(arr_,n-1,i+1)\n",
    "    return arr_, i+1"
   ]
  },
  {
   "cell_type": "code",
   "execution_count": 4,
   "metadata": {},
   "outputs": [
    {
     "name": "stdout",
     "output_type": "stream",
     "text": [
      "Pre-partition: [3, 1, 4, 9, 8, 5]\n",
      "Post-partition: [3, 1, 4, 5, 8, 9]\n"
     ]
    }
   ],
   "source": [
    "arr_par=[3,1,4,9,8,5]\n",
    "print('Pre-partition:',arr_par)\n",
    "partition(arr_par)\n",
    "print('Post-partition:',arr_par)"
   ]
  },
  {
   "cell_type": "markdown",
   "metadata": {},
   "source": [
    "## `merge`"
   ]
  },
  {
   "cell_type": "code",
   "execution_count": 16,
   "metadata": {},
   "outputs": [],
   "source": [
    "def merge(arr1,arr2):\n",
    "    '''\n",
    "    Merges arr1 and arr2 assuming they are sorted.\n",
    "    '''\n",
    "    \n",
    "    i=0\n",
    "    j=0\n",
    "    \n",
    "    newarr=[]\n",
    "    while i < len(arr1) and j < len(arr2):\n",
    "        if arr1[i] <= arr2[j]:\n",
    "            newarr.append(arr1[i])\n",
    "            i+=1\n",
    "        elif arr2[j] < arr1[i]:\n",
    "            newarr.append(arr2[j])\n",
    "            j+=1\n",
    "    while i < len(arr1):\n",
    "        newarr.append(arr1[i])\n",
    "        i+=1\n",
    "    while j < len(arr2):\n",
    "        newarr.append(arr2[j])\n",
    "        j+=1\n",
    "    \n",
    "    return newarr"
   ]
  },
  {
   "cell_type": "markdown",
   "metadata": {},
   "source": [
    "Works as intended"
   ]
  },
  {
   "cell_type": "code",
   "execution_count": 7,
   "metadata": {},
   "outputs": [
    {
     "name": "stdout",
     "output_type": "stream",
     "text": [
      "[1, 2, 3, 4, 5, 6, 7, 8]\n"
     ]
    }
   ],
   "source": [
    "arr1=[2,4,6,8]\n",
    "arr2=[1,3,5,7]\n",
    "\n",
    "print(merge(arr1,arr2))"
   ]
  },
  {
   "cell_type": "markdown",
   "metadata": {},
   "source": [
    "## `test`"
   ]
  },
  {
   "cell_type": "code",
   "execution_count": 16,
   "metadata": {},
   "outputs": [],
   "source": [
    "def test(sorting_alg):\n",
    "    arr=[3,8,5,2,8]\n",
    "    \n",
    "    sorting_alg(arr)\n",
    "    print(arr)\n",
    "    assert arr==[2,3,5,8,8]"
   ]
  },
  {
   "cell_type": "markdown",
   "metadata": {},
   "source": [
    "# Selection Sort"
   ]
  },
  {
   "cell_type": "markdown",
   "metadata": {},
   "source": [
    "Selection sort is the slowest sorting algorithm, always taking $O(n^2)$ time. Given an unsorted array, the first entry is considered part of the \"sorted\" partition, while the rest are \"unsorted\". We then select the smallest entry in the unsorted portion, and place it at the end of the sorted portion."
   ]
  },
  {
   "cell_type": "markdown",
   "metadata": {},
   "source": [
    "*Had to look up algorithm and some indices*"
   ]
  },
  {
   "cell_type": "code",
   "execution_count": 68,
   "metadata": {},
   "outputs": [],
   "source": [
    "def selectionsort(arr):\n",
    "    \n",
    "    n=len(arr)\n",
    "    \n",
    "    for i in range(n):\n",
    "        min_idx=i\n",
    "        \n",
    "        # Search for smallest in unsorted portion\n",
    "        for j in range(i,n):\n",
    "            if arr[min_idx] > arr[j]:\n",
    "                min_idx=j\n",
    "\n",
    "        swap(arr,i,min_idx)"
   ]
  },
  {
   "cell_type": "code",
   "execution_count": 40,
   "metadata": {},
   "outputs": [
    {
     "name": "stdout",
     "output_type": "stream",
     "text": [
      "[2, 3, 5, 8, 8]\n"
     ]
    }
   ],
   "source": [
    "test(selectionsort)"
   ]
  },
  {
   "cell_type": "markdown",
   "metadata": {},
   "source": [
    "# Insertion Sort"
   ]
  },
  {
   "cell_type": "markdown",
   "metadata": {},
   "source": [
    "Insertion Sort is similar to Selection Sort. But instead, we say the first $i$ keys are sorted ($i=1$ to $n$) andbubble the first keys of the unsorted portion down until it is in its proper position.\n",
    "\n",
    "Time complexity is $O(n^2)$ in the average and worst case, $O(n)$ for a nearly sorted array."
   ]
  },
  {
   "cell_type": "code",
   "execution_count": 46,
   "metadata": {},
   "outputs": [],
   "source": [
    "def insertionsort(arr):\n",
    "    n=len(arr)\n",
    "    \n",
    "    for i in range(1,n-1):\n",
    "        j=i+1\n",
    "        while j>0 and arr[j]<arr[j-1]:\n",
    "            swap(arr,j,j-1)\n",
    "            j=j-1"
   ]
  },
  {
   "cell_type": "code",
   "execution_count": 47,
   "metadata": {},
   "outputs": [
    {
     "name": "stdout",
     "output_type": "stream",
     "text": [
      "[2, 3, 5, 8, 8]\n"
     ]
    }
   ],
   "source": [
    "test(insertionsort)"
   ]
  },
  {
   "cell_type": "markdown",
   "metadata": {},
   "source": [
    "*Well done*"
   ]
  },
  {
   "cell_type": "markdown",
   "metadata": {},
   "source": [
    "# Bubble Sort"
   ]
  },
  {
   "cell_type": "markdown",
   "metadata": {},
   "source": [
    "Bubble sort moves up the array comparing each keys to its neighbor and swapping them if they are out of order. On pass $i$, the last $i$ keys are considered to be in order."
   ]
  },
  {
   "cell_type": "code",
   "execution_count": 49,
   "metadata": {},
   "outputs": [
    {
     "name": "stdout",
     "output_type": "stream",
     "text": [
      "[2, 3, 5, 8, 8]\n"
     ]
    }
   ],
   "source": [
    "def bubblesort(arr):\n",
    "    n=len(arr)\n",
    "    \n",
    "    for i in range(n-1):\n",
    "        for j in range(n-i-1):\n",
    "            if arr[j] > arr[j+1]:\n",
    "                swap(arr,j,j+1)\n",
    "                \n",
    "test(bubblesort)"
   ]
  },
  {
   "cell_type": "markdown",
   "metadata": {},
   "source": [
    "As written above, this always takes $O(n^2)$ time, but we can add a flag eto check whether nothing was swapped. If everything's in order, then we can just stop. This makes the best case time complexity $O(n)$."
   ]
  },
  {
   "cell_type": "code",
   "execution_count": 50,
   "metadata": {},
   "outputs": [],
   "source": [
    "def bubblesort_better(arr):\n",
    "    n=len(arr)\n",
    "    \n",
    "    for i in range(n-1):\n",
    "        swapped=False\n",
    "        \n",
    "        for j in range(n-i-1):\n",
    "            if arr[j] > arr[j+1]:\n",
    "                swap(arr,j,j+1)\n",
    "                swapped=True\n",
    "        \n",
    "        if swapped==False:\n",
    "            break"
   ]
  },
  {
   "cell_type": "code",
   "execution_count": 51,
   "metadata": {},
   "outputs": [
    {
     "name": "stdout",
     "output_type": "stream",
     "text": [
      "[2, 3, 5, 8, 8]\n"
     ]
    }
   ],
   "source": [
    "test(bubblesort_better)"
   ]
  },
  {
   "cell_type": "markdown",
   "metadata": {},
   "source": [
    "# Quicksort"
   ]
  },
  {
   "cell_type": "markdown",
   "metadata": {},
   "source": [
    "Quicksort is known for being among the best sorting algorithms. It exhibits average and best-case time complexity of $O(n log n)$. In these cases, it is generally 2-3 times faster than mergesort. However, on nearly sorted arrays, it falters to $O(n^2)$ time."
   ]
  },
  {
   "cell_type": "code",
   "execution_count": 62,
   "metadata": {},
   "outputs": [],
   "source": [
    "def quicksort(arr):\n",
    "    \n",
    "    if len(arr)>1:\n",
    "        arr, i = partition(arr)\n",
    "        \n",
    "        if i==0:\n",
    "            arr1=[]\n",
    "        else:\n",
    "            arr1=quicksort(arr[:i])\n",
    "        if i==len(arr)-1:\n",
    "            arr2=[]\n",
    "        else:\n",
    "            arr2=quicksort(arr[i+1:])\n",
    "        \n",
    "        return arr1 + [arr[i]] + arr2\n",
    "    \n",
    "    return arr"
   ]
  },
  {
   "cell_type": "code",
   "execution_count": 70,
   "metadata": {},
   "outputs": [
    {
     "name": "stdout",
     "output_type": "stream",
     "text": [
      "[3, 8, 5, 2, 8]\n"
     ]
    },
    {
     "ename": "AssertionError",
     "evalue": "",
     "output_type": "error",
     "traceback": [
      "\u001b[1;31m---------------------------------------------------------------------------\u001b[0m",
      "\u001b[1;31mAssertionError\u001b[0m                            Traceback (most recent call last)",
      "\u001b[1;32m<ipython-input-70-e7290331819c>\u001b[0m in \u001b[0;36m<module>\u001b[1;34m\u001b[0m\n\u001b[1;32m----> 1\u001b[1;33m \u001b[0mtest\u001b[0m\u001b[1;33m(\u001b[0m\u001b[0mquicksort\u001b[0m\u001b[1;33m)\u001b[0m\u001b[1;33m\u001b[0m\u001b[1;33m\u001b[0m\u001b[0m\n\u001b[0m",
      "\u001b[1;32m<ipython-input-16-6c4698a5df33>\u001b[0m in \u001b[0;36mtest\u001b[1;34m(sorting_alg)\u001b[0m\n\u001b[0;32m      4\u001b[0m     \u001b[0msorting_alg\u001b[0m\u001b[1;33m(\u001b[0m\u001b[0marr\u001b[0m\u001b[1;33m)\u001b[0m\u001b[1;33m\u001b[0m\u001b[1;33m\u001b[0m\u001b[0m\n\u001b[0;32m      5\u001b[0m     \u001b[0mprint\u001b[0m\u001b[1;33m(\u001b[0m\u001b[0marr\u001b[0m\u001b[1;33m)\u001b[0m\u001b[1;33m\u001b[0m\u001b[1;33m\u001b[0m\u001b[0m\n\u001b[1;32m----> 6\u001b[1;33m     \u001b[1;32massert\u001b[0m \u001b[0marr\u001b[0m\u001b[1;33m==\u001b[0m\u001b[1;33m[\u001b[0m\u001b[1;36m2\u001b[0m\u001b[1;33m,\u001b[0m\u001b[1;36m3\u001b[0m\u001b[1;33m,\u001b[0m\u001b[1;36m5\u001b[0m\u001b[1;33m,\u001b[0m\u001b[1;36m8\u001b[0m\u001b[1;33m,\u001b[0m\u001b[1;36m8\u001b[0m\u001b[1;33m]\u001b[0m\u001b[1;33m\u001b[0m\u001b[1;33m\u001b[0m\u001b[0m\n\u001b[0m",
      "\u001b[1;31mAssertionError\u001b[0m: "
     ]
    }
   ],
   "source": [
    "test(quicksort)"
   ]
  },
  {
   "cell_type": "markdown",
   "metadata": {},
   "source": [
    "*Pretty good. Unable to test though. Partition understanding getting better.*"
   ]
  },
  {
   "cell_type": "markdown",
   "metadata": {},
   "source": [
    "# Mergesort"
   ]
  },
  {
   "cell_type": "markdown",
   "metadata": {},
   "source": [
    "Mergesort splits the array in half and performs `merge` on the two subarrays.\n",
    "\n",
    "Time complexity is $O(n log n)$ in the best, average, and worst cases."
   ]
  },
  {
   "cell_type": "code",
   "execution_count": 12,
   "metadata": {},
   "outputs": [],
   "source": [
    "def mergesort(arr):\n",
    "    \n",
    "    if len(arr)>1:\n",
    "        \n",
    "        mid = int(len(arr)/2)\n",
    "        \n",
    "        arr1=mergesort(arr[:mid])\n",
    "        arr2=mergesort(arr[mid:])\n",
    "        \n",
    "        arr=merge(arr1,arr2)\n",
    "    \n",
    "    return arr"
   ]
  },
  {
   "cell_type": "code",
   "execution_count": 17,
   "metadata": {},
   "outputs": [
    {
     "name": "stdout",
     "output_type": "stream",
     "text": [
      "[3, 4, 7, 8, 8, 9, 21]\n"
     ]
    }
   ],
   "source": [
    "arr=[7,21,9,3,8,4,8]\n",
    "print(mergesort(arr))"
   ]
  },
  {
   "cell_type": "markdown",
   "metadata": {},
   "source": [
    "*This went great.*"
   ]
  }
 ],
 "metadata": {
  "kernelspec": {
   "display_name": "Python 3",
   "language": "python",
   "name": "python3"
  },
  "language_info": {
   "codemirror_mode": {
    "name": "ipython",
    "version": 3
   },
   "file_extension": ".py",
   "mimetype": "text/x-python",
   "name": "python",
   "nbconvert_exporter": "python",
   "pygments_lexer": "ipython3",
   "version": "3.7.6"
  }
 },
 "nbformat": 4,
 "nbformat_minor": 4
}
