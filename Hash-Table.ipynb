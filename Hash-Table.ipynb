{
 "cells": [
  {
   "cell_type": "code",
   "execution_count": 2,
   "metadata": {},
   "outputs": [
    {
     "ename": "ModuleNotFoundError",
     "evalue": "No module named 'dsalgs'",
     "output_type": "error",
     "traceback": [
      "\u001b[1;31m---------------------------------------------------------------------------\u001b[0m",
      "\u001b[1;31mModuleNotFoundError\u001b[0m                       Traceback (most recent call last)",
      "\u001b[1;32m<ipython-input-2-211bfda249fd>\u001b[0m in \u001b[0;36m<module>\u001b[1;34m\u001b[0m\n\u001b[1;32m----> 1\u001b[1;33m \u001b[1;32mfrom\u001b[0m \u001b[0mdsalgs\u001b[0m \u001b[1;32mimport\u001b[0m \u001b[0mhashtable\u001b[0m\u001b[1;33m\u001b[0m\u001b[1;33m\u001b[0m\u001b[0m\n\u001b[0m",
      "\u001b[1;31mModuleNotFoundError\u001b[0m: No module named 'dsalgs'"
     ]
    }
   ],
   "source": [
    "from dsalgs import hashtable"
   ]
  },
  {
   "cell_type": "markdown",
   "metadata": {},
   "source": [
    "# Chaining"
   ]
  },
  {
   "cell_type": "code",
   "execution_count": 2,
   "metadata": {},
   "outputs": [
    {
     "name": "stdout",
     "output_type": "stream",
     "text": [
      "Keys: 3\n",
      "Load Factor: 0.3\n",
      "Element 15 at  (5, <dsalgs.linkedlist.Node object at 0x000001E8CB6F0308>)\n"
     ]
    },
    {
     "data": {
      "text/plain": [
       "-----\n",
       "\n",
       "-----\n",
       "\n",
       "-----\n",
       "2 -> \n",
       "-----\n",
       "\n",
       "-----\n",
       "\n",
       "-----\n",
       "5 -> 15 -> \n",
       "-----\n",
       "\n",
       "-----\n",
       "\n",
       "-----\n",
       "\n",
       "-----\n",
       "\n",
       "-----"
      ]
     },
     "execution_count": 2,
     "metadata": {},
     "output_type": "execute_result"
    }
   ],
   "source": [
    "h=hashtable.HashTable(10,collisionhandling='chaining')\n",
    "h.insert(5)\n",
    "h.insert(2)\n",
    "h.insert(15)\n",
    "print('Keys:',h.keys())\n",
    "print('Load Factor:',h.loadfactor())\n",
    "print('Element 15 at ',h.search(15))\n",
    "h"
   ]
  },
  {
   "cell_type": "code",
   "execution_count": 3,
   "metadata": {},
   "outputs": [
    {
     "name": "stdout",
     "output_type": "stream",
     "text": [
      "(5, <dsalgs.linkedlist.Node object at 0x000001E8CB6F0308>)\n",
      "(6, None)\n"
     ]
    }
   ],
   "source": [
    "print(h.search(15))\n",
    "print(h.search(16))"
   ]
  },
  {
   "cell_type": "code",
   "execution_count": 4,
   "metadata": {},
   "outputs": [
    {
     "data": {
      "text/plain": [
       "-----\n",
       "\n",
       "-----\n",
       "\n",
       "-----\n",
       "2 -> \n",
       "-----\n",
       "\n",
       "-----\n",
       "\n",
       "-----\n",
       "5 -> \n",
       "-----\n",
       "\n",
       "-----\n",
       "\n",
       "-----\n",
       "\n",
       "-----\n",
       "\n",
       "-----"
      ]
     },
     "execution_count": 4,
     "metadata": {},
     "output_type": "execute_result"
    }
   ],
   "source": [
    "h.delete(15)\n",
    "h"
   ]
  },
  {
   "cell_type": "code",
   "execution_count": 5,
   "metadata": {},
   "outputs": [
    {
     "data": {
      "text/plain": [
       "-----\n",
       "28 -> \n",
       "-----\n",
       "22 -> 43 -> 582 -> \n",
       "-----\n",
       "16 -> 44 -> 16 -> \n",
       "-----\n",
       "\n",
       "-----\n",
       "4 -> 95 -> \n",
       "-----\n",
       "89 -> \n",
       "-----\n",
       "\n",
       "-----"
      ]
     },
     "execution_count": 5,
     "metadata": {},
     "output_type": "execute_result"
    }
   ],
   "source": [
    "values=[4,89,22,16,95,44,43,28,16,582]\n",
    "\n",
    "h2=hashtable.HashTable(7)\n",
    "\n",
    "for v in values:\n",
    "    h2.insert(v)\n",
    "h2"
   ]
  },
  {
   "cell_type": "code",
   "execution_count": 6,
   "metadata": {},
   "outputs": [
    {
     "data": {
      "text/plain": [
       "-----\n",
       "28 -> \n",
       "-----\n",
       "22 -> 43 -> 582 -> \n",
       "-----\n",
       "16 -> 16 -> \n",
       "-----\n",
       "\n",
       "-----\n",
       "4 -> 95 -> \n",
       "-----\n",
       "89 -> \n",
       "-----\n",
       "\n",
       "-----"
      ]
     },
     "execution_count": 6,
     "metadata": {},
     "output_type": "execute_result"
    }
   ],
   "source": [
    "h2.delete(44)\n",
    "h2"
   ]
  },
  {
   "cell_type": "markdown",
   "metadata": {},
   "source": [
    "# Open Addressing"
   ]
  },
  {
   "cell_type": "code",
   "execution_count": 2,
   "metadata": {},
   "outputs": [
    {
     "data": {
      "text/plain": [
       "-----\n",
       "\n",
       "-----\n",
       "\n",
       "-----\n",
       "\n",
       "-----\n",
       "\n",
       "-----\n",
       "\n",
       "-----\n",
       "5\n",
       "-----\n",
       "15\n",
       "-----\n",
       "\n",
       "-----\n",
       "\n",
       "-----\n",
       "\n",
       "-----"
      ]
     },
     "execution_count": 2,
     "metadata": {},
     "output_type": "execute_result"
    }
   ],
   "source": [
    "h=hashtable.HashTable(10,collisionhandling='openaddressing')\n",
    "h.insert(5)\n",
    "h.insert(15)\n",
    "h"
   ]
  },
  {
   "cell_type": "code",
   "execution_count": 3,
   "metadata": {},
   "outputs": [],
   "source": [
    "h.insert(25)\n",
    "h.insert(35)\n",
    "h.insert(45)"
   ]
  },
  {
   "cell_type": "code",
   "execution_count": 4,
   "metadata": {},
   "outputs": [
    {
     "data": {
      "text/plain": [
       "-----\n",
       "\n",
       "-----\n",
       "\n",
       "-----\n",
       "\n",
       "-----\n",
       "\n",
       "-----\n",
       "\n",
       "-----\n",
       "5\n",
       "-----\n",
       "15\n",
       "-----\n",
       "25\n",
       "-----\n",
       "35\n",
       "-----\n",
       "45\n",
       "-----"
      ]
     },
     "execution_count": 4,
     "metadata": {},
     "output_type": "execute_result"
    }
   ],
   "source": [
    "h"
   ]
  }
 ],
 "metadata": {
  "kernelspec": {
   "display_name": "Python 3",
   "language": "python",
   "name": "python3"
  },
  "language_info": {
   "codemirror_mode": {
    "name": "ipython",
    "version": 3
   },
   "file_extension": ".py",
   "mimetype": "text/x-python",
   "name": "python",
   "nbconvert_exporter": "python",
   "pygments_lexer": "ipython3",
   "version": "3.7.6"
  }
 },
 "nbformat": 4,
 "nbformat_minor": 4
}
