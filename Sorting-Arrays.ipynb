{
 "cells": [
  {
   "cell_type": "code",
   "execution_count": 1,
   "metadata": {},
   "outputs": [],
   "source": [
    "from dsalgs import sorting"
   ]
  },
  {
   "cell_type": "code",
   "execution_count": 2,
   "metadata": {},
   "outputs": [],
   "source": [
    "arr=[2,4,1,1,8,9,3,6,6,3,3,6,8,0,1,2,2,8,9,4,3,2,8,0]\n",
    "\n",
    "arris=sorting.insertionsort(arr)\n",
    "arrss=sorting.selectionsort(arr)\n",
    "arrbs=sorting.bubblesort(arr)\n",
    "arrqs=sorting.quicksort(arr)\n",
    "arrms=sorting.mergesort(arr)"
   ]
  },
  {
   "cell_type": "markdown",
   "metadata": {},
   "source": [
    "# Timing"
   ]
  },
  {
   "cell_type": "code",
   "execution_count": 28,
   "metadata": {},
   "outputs": [],
   "source": [
    "from random import randint\n",
    "from time import time\n",
    "from math import log\n",
    "\n",
    "def random_int_array(n):\n",
    "    arr=[]\n",
    "    for i in range(n):\n",
    "        arr.append(randint(1,100))\n",
    "    return arr"
   ]
  },
  {
   "cell_type": "code",
   "execution_count": 38,
   "metadata": {},
   "outputs": [
    {
     "name": "stdout",
     "output_type": "stream",
     "text": [
      "2^7 :  0.005506277084350586\n",
      "2^8 :  0.0\n",
      "2^9 :  0.0\n",
      "2^10 :  0.015635967254638672\n",
      "2^11 :  0.015644550323486328\n",
      "2^12 :  0.05340003967285156\n",
      "2^13 :  0.18492960929870605\n",
      "2^14 :  0.7704372406005859\n",
      "2^15 :  2.992492437362671\n",
      "2^16 :  11.367754220962524\n",
      "2^17 :  38.8046715259552\n"
     ]
    }
   ],
   "source": [
    "for i in range(7,18):\n",
    "    arr=random_int_array(2**i)\n",
    "    t1=time()\n",
    "    sorted_arr=sorting.quicksort(arr)\n",
    "    t2=time()\n",
    "    print('2^'+str(i),': ',t2-t1)"
   ]
  },
  {
   "cell_type": "code",
   "execution_count": 48,
   "metadata": {},
   "outputs": [
    {
     "name": "stdout",
     "output_type": "stream",
     "text": [
      "2^5 :  0.0\n",
      "2^6 :  0.0\n",
      "2^7 :  0.0\n",
      "2^8 :  0.015604257583618164\n",
      "2^9 :  0.0690460205078125\n",
      "2^10 :  0.1627662181854248\n",
      "2^11 :  0.8399524688720703\n",
      "2^12 :  3.3935914039611816\n",
      "2^13 :  13.920898199081421\n"
     ]
    }
   ],
   "source": [
    "for i in range(5,14):\n",
    "    arr=random_int_array(2**i)\n",
    "    t1=time()\n",
    "    sorted_arr=sorting.bubblesort(arr)\n",
    "    t2=time()\n",
    "    print('2^'+str(i),': ',t2-t1)"
   ]
  },
  {
   "cell_type": "code",
   "execution_count": null,
   "metadata": {},
   "outputs": [],
   "source": []
  }
 ],
 "metadata": {
  "kernelspec": {
   "display_name": "Python 3",
   "language": "python",
   "name": "python3"
  },
  "language_info": {
   "codemirror_mode": {
    "name": "ipython",
    "version": 3
   },
   "file_extension": ".py",
   "mimetype": "text/x-python",
   "name": "python",
   "nbconvert_exporter": "python",
   "pygments_lexer": "ipython3",
   "version": "3.7.6"
  }
 },
 "nbformat": 4,
 "nbformat_minor": 4
}
